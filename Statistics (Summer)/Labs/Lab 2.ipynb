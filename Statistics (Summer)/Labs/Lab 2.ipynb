{
 "cells": [
  {
   "cell_type": "markdown",
   "id": "cb324ef9",
   "metadata": {},
   "source": [
    "<h1>Lab 2: Confidence Intervals and Hypothesis Testing</h1>"
   ]
  },
  {
   "cell_type": "markdown",
   "id": "ed01ad64",
   "metadata": {},
   "source": [
    "Import Packages"
   ]
  },
  {
   "cell_type": "code",
   "execution_count": 3,
   "id": "0a821bd2",
   "metadata": {},
   "outputs": [],
   "source": [
    "import pandas as pd\n",
    "import numpy as np\n",
    "from sklearn.preprocessing import OneHotEncoder\n",
    "import seaborn as sns\n",
    "import matplotlib.pyplot as plt\n",
    "from numpy import random\n",
    "import statsmodels.api as sma\n",
    "import statsmodels as sm\n",
    "import pylab as py\n",
    "import scipy.stats as stats\n",
    "import scipy as sp\n",
    "import statsmodels.formula.api as smf\n",
    "import sklearn\n",
    "from sklearn.linear_model import Ridge\n",
    "from sklearn.linear_model import Lasso\n",
    "from sklearn.linear_model import ElasticNet\n",
    "from sklearn.metrics import mean_squared_error\n",
    "from plotnine import *\n",
    "from scipy.stats import skew"
   ]
  },
  {
   "cell_type": "markdown",
   "id": "44e827ee",
   "metadata": {},
   "source": [
    "Revisit the normtemp dataset from lab 1 where we examined the observed mean body temperature (temperature) in comparison to the well-known \"average\" 98.6 degrees. Use the temperature variable to answer the following questions"
   ]
  },
  {
   "cell_type": "code",
   "execution_count": 3,
   "id": "11af1c5b",
   "metadata": {},
   "outputs": [
    {
     "data": {
      "application/vnd.microsoft.datawrangler.viewer.v0+json": {
       "columns": [
        {
         "name": "index",
         "rawType": "int64",
         "type": "integer"
        },
        {
         "name": "temperature",
         "rawType": "float64",
         "type": "float"
        },
        {
         "name": "gender",
         "rawType": "int64",
         "type": "integer"
        },
        {
         "name": "hr",
         "rawType": "int64",
         "type": "integer"
        }
       ],
       "ref": "be9a8e9a-77ef-47d6-976f-78bb5db5a293",
       "rows": [
        [
         "1",
         "96.3",
         "1",
         "70"
        ],
        [
         "2",
         "96.7",
         "1",
         "71"
        ],
        [
         "3",
         "96.9",
         "1",
         "74"
        ],
        [
         "4",
         "97.0",
         "1",
         "80"
        ],
        [
         "5",
         "97.1",
         "1",
         "73"
        ]
       ],
       "shape": {
        "columns": 3,
        "rows": 5
       }
      },
      "text/html": [
       "<div>\n",
       "<style scoped>\n",
       "    .dataframe tbody tr th:only-of-type {\n",
       "        vertical-align: middle;\n",
       "    }\n",
       "\n",
       "    .dataframe tbody tr th {\n",
       "        vertical-align: top;\n",
       "    }\n",
       "\n",
       "    .dataframe thead th {\n",
       "        text-align: right;\n",
       "    }\n",
       "</style>\n",
       "<table border=\"1\" class=\"dataframe\">\n",
       "  <thead>\n",
       "    <tr style=\"text-align: right;\">\n",
       "      <th></th>\n",
       "      <th>temperature</th>\n",
       "      <th>gender</th>\n",
       "      <th>hr</th>\n",
       "    </tr>\n",
       "  </thead>\n",
       "  <tbody>\n",
       "    <tr>\n",
       "      <th>1</th>\n",
       "      <td>96.3</td>\n",
       "      <td>1</td>\n",
       "      <td>70</td>\n",
       "    </tr>\n",
       "    <tr>\n",
       "      <th>2</th>\n",
       "      <td>96.7</td>\n",
       "      <td>1</td>\n",
       "      <td>71</td>\n",
       "    </tr>\n",
       "    <tr>\n",
       "      <th>3</th>\n",
       "      <td>96.9</td>\n",
       "      <td>1</td>\n",
       "      <td>74</td>\n",
       "    </tr>\n",
       "    <tr>\n",
       "      <th>4</th>\n",
       "      <td>97.0</td>\n",
       "      <td>1</td>\n",
       "      <td>80</td>\n",
       "    </tr>\n",
       "    <tr>\n",
       "      <th>5</th>\n",
       "      <td>97.1</td>\n",
       "      <td>1</td>\n",
       "      <td>73</td>\n",
       "    </tr>\n",
       "  </tbody>\n",
       "</table>\n",
       "</div>"
      ],
      "text/plain": [
       "   temperature  gender  hr\n",
       "1         96.3       1  70\n",
       "2         96.7       1  71\n",
       "3         96.9       1  74\n",
       "4         97.0       1  80\n",
       "5         97.1       1  73"
      ]
     },
     "execution_count": 3,
     "metadata": {},
     "output_type": "execute_result"
    }
   ],
   "source": [
    "temp = pd.read_csv(\"https://raw.githubusercontent.com/IAA-Faculty/statistical_foundations/refs/heads/master/normtemp.csv\", sep =' ')\n",
    "temp.head()"
   ]
  },
  {
   "cell_type": "markdown",
   "id": "0e492c40",
   "metadata": {},
   "source": [
    "Perform a statistical test (alpha = .05) to determine whether this well-known number is actually the mean body temperature. What is your t-statistic? (round to 2 decimal places)"
   ]
  },
  {
   "cell_type": "code",
   "execution_count": 4,
   "id": "667cb45c",
   "metadata": {},
   "outputs": [
    {
     "name": "stdout",
     "output_type": "stream",
     "text": [
      "-5.4548232923645195 2.4106320415561276e-07 129.0\n"
     ]
    }
   ],
   "source": [
    "d = sm.stats.weightstats.DescrStatsW(temp['temperature'])\n",
    "test_stat, p_val, df = d.ttest_mean(value=98.6, alternative='two-sided')\n",
    "\n",
    "print(test_stat,p_val,df)"
   ]
  },
  {
   "cell_type": "markdown",
   "id": "e7fe499c",
   "metadata": {},
   "source": [
    "Give the 95% confidence interval for temperature."
   ]
  },
  {
   "cell_type": "code",
   "execution_count": 5,
   "id": "21384662",
   "metadata": {},
   "outputs": [
    {
     "data": {
      "text/plain": [
       "(98.12200290560801, 98.37645863285348)"
      ]
     },
     "execution_count": 5,
     "metadata": {},
     "output_type": "execute_result"
    }
   ],
   "source": [
    "d = sm.stats.weightstats.DescrStatsW(temp['temperature'])\n",
    "d.tconfint_mean(0.05)"
   ]
  },
  {
   "cell_type": "markdown",
   "id": "bce73a4e",
   "metadata": {},
   "source": [
    "If we restrict our analysis to only the females in this dataset, will our conclusion change?"
   ]
  },
  {
   "cell_type": "code",
   "execution_count": 6,
   "id": "787c0c92",
   "metadata": {},
   "outputs": [
    {
     "data": {
      "text/plain": [
       "(98.20961890911848, 98.57807339857384)"
      ]
     },
     "execution_count": 6,
     "metadata": {},
     "output_type": "execute_result"
    }
   ],
   "source": [
    "d = sm.stats.weightstats.DescrStatsW(temp[temp['gender'] == 2]['temperature'])\n",
    "d.tconfint_mean(0.05)"
   ]
  },
  {
   "cell_type": "code",
   "execution_count": 7,
   "id": "8d480e02",
   "metadata": {},
   "outputs": [
    {
     "name": "stdout",
     "output_type": "stream",
     "text": [
      "-2.235498079678342 0.028880450789692733 64.0\n"
     ]
    }
   ],
   "source": [
    "d = sm.stats.weightstats.DescrStatsW(temp[temp['gender'] == 2]['temperature'])\n",
    "test_stat, p_val, df = d.ttest_mean(value=98.6, alternative='two-sided')\n",
    "\n",
    "print(test_stat,p_val,df)"
   ]
  },
  {
   "cell_type": "markdown",
   "id": "85ba951e",
   "metadata": {},
   "source": [
    "The Airline dataset contains information regarding the number of international airline travelers (variable air) across different months of the year from 1949-1960. \n",
    "\n",
    "We are interested in knowing if during this time period there was a significant difference between air travel in the summer months (Jun, Jul, and Aug) vs the remainder of the year.\n",
    "\n",
    "Use this data to answer the following questions:"
   ]
  },
  {
   "cell_type": "code",
   "execution_count": 4,
   "id": "5411a536",
   "metadata": {},
   "outputs": [
    {
     "data": {
      "application/vnd.microsoft.datawrangler.viewer.v0+json": {
       "columns": [
        {
         "name": "index",
         "rawType": "int64",
         "type": "integer"
        },
        {
         "name": "Month",
         "rawType": "object",
         "type": "string"
        },
        {
         "name": "Year",
         "rawType": "int64",
         "type": "integer"
        },
        {
         "name": "Passenger",
         "rawType": "int64",
         "type": "integer"
        }
       ],
       "ref": "f9a7aa0b-4732-46d7-86c1-b8c7bd96e870",
       "rows": [
        [
         "0",
         "Jan",
         "1949",
         "112"
        ],
        [
         "1",
         "Feb",
         "1949",
         "118"
        ],
        [
         "2",
         "Mar",
         "1949",
         "132"
        ],
        [
         "3",
         "Apr",
         "1949",
         "129"
        ],
        [
         "4",
         "May",
         "1949",
         "121"
        ]
       ],
       "shape": {
        "columns": 3,
        "rows": 5
       }
      },
      "text/html": [
       "<div>\n",
       "<style scoped>\n",
       "    .dataframe tbody tr th:only-of-type {\n",
       "        vertical-align: middle;\n",
       "    }\n",
       "\n",
       "    .dataframe tbody tr th {\n",
       "        vertical-align: top;\n",
       "    }\n",
       "\n",
       "    .dataframe thead th {\n",
       "        text-align: right;\n",
       "    }\n",
       "</style>\n",
       "<table border=\"1\" class=\"dataframe\">\n",
       "  <thead>\n",
       "    <tr style=\"text-align: right;\">\n",
       "      <th></th>\n",
       "      <th>Month</th>\n",
       "      <th>Year</th>\n",
       "      <th>Passenger</th>\n",
       "    </tr>\n",
       "  </thead>\n",
       "  <tbody>\n",
       "    <tr>\n",
       "      <th>0</th>\n",
       "      <td>Jan</td>\n",
       "      <td>1949</td>\n",
       "      <td>112</td>\n",
       "    </tr>\n",
       "    <tr>\n",
       "      <th>1</th>\n",
       "      <td>Feb</td>\n",
       "      <td>1949</td>\n",
       "      <td>118</td>\n",
       "    </tr>\n",
       "    <tr>\n",
       "      <th>2</th>\n",
       "      <td>Mar</td>\n",
       "      <td>1949</td>\n",
       "      <td>132</td>\n",
       "    </tr>\n",
       "    <tr>\n",
       "      <th>3</th>\n",
       "      <td>Apr</td>\n",
       "      <td>1949</td>\n",
       "      <td>129</td>\n",
       "    </tr>\n",
       "    <tr>\n",
       "      <th>4</th>\n",
       "      <td>May</td>\n",
       "      <td>1949</td>\n",
       "      <td>121</td>\n",
       "    </tr>\n",
       "  </tbody>\n",
       "</table>\n",
       "</div>"
      ],
      "text/plain": [
       "  Month  Year  Passenger\n",
       "0   Jan  1949        112\n",
       "1   Feb  1949        118\n",
       "2   Mar  1949        132\n",
       "3   Apr  1949        129\n",
       "4   May  1949        121"
      ]
     },
     "execution_count": 4,
     "metadata": {},
     "output_type": "execute_result"
    }
   ],
   "source": [
    "airline = pd.read_csv(\"https://raw.githubusercontent.com/IAA-Faculty/statistical_foundations/refs/heads/master/Airline.csv\")\n",
    "airline.head()"
   ]
  },
  {
   "cell_type": "markdown",
   "id": "538fb787",
   "metadata": {},
   "source": [
    "What is the shape of the distribution for the number of passengers for the summer data?"
   ]
  },
  {
   "cell_type": "code",
   "execution_count": 7,
   "id": "dc45f23f",
   "metadata": {},
   "outputs": [],
   "source": [
    "summer_months = ['Jun', 'Jul', 'Aug']\n",
    "airline_summer = airline[airline['Month'].isin(summer_months)]\n",
    "\n",
    "remaining_year = ['Sep','Oct','Nov','Dec','Jan', 'Feb','Mar','Apr', 'May']\n",
    "airline_nonsummer = airline[airline['Month'].isin(remaining_year)]\n",
    "\n"
   ]
  },
  {
   "cell_type": "code",
   "execution_count": 11,
   "id": "24bfdae5",
   "metadata": {},
   "outputs": [
    {
     "data": {
      "image/png": "[encoded data removed]"
     },
     "metadata": {
      "image/png": {
       "height": 480,
       "width": 640
      }
     },
     "output_type": "display_data"
    },
    {
     "data": {
      "text/plain": [
       "0.3074747596884999"
      ]
     },
     "execution_count": 11,
     "metadata": {},
     "output_type": "execute_result"
    }
   ],
   "source": [
    "p = (\n",
    "ggplot(airline_summer, aes(x='Passenger')) +\n",
    "geom_histogram(aes(y='..density..'), bins=40,\n",
    "fill='blue', color='black') +\n",
    "geom_density(color='black', size=1.5) \n",
    ")\n",
    "p.show()\n",
    "\n",
    "sp.stats.skew(airline_summer['Passenger'])"
   ]
  },
  {
   "cell_type": "code",
   "execution_count": 12,
   "id": "a49167cd",
   "metadata": {},
   "outputs": [
    {
     "data": {
      "image/png": "[encoded data removed]"
     },
     "metadata": {
      "image/png": {
       "height": 480,
       "width": 640
      }
     },
     "output_type": "display_data"
    },
    {
     "data": {
      "text/plain": [
       "0.33264877004697196"
      ]
     },
     "execution_count": 12,
     "metadata": {},
     "output_type": "execute_result"
    }
   ],
   "source": [
    "p = (\n",
    "ggplot(airline_nonsummer, aes(x='Passenger')) +\n",
    "geom_histogram(aes(y='..density..'), bins=22,\n",
    "fill='blue', color='black') +\n",
    "geom_density(color='black', size=1.5) \n",
    ")\n",
    "p.show()\n",
    "\n",
    "sp.stats.skew(airline_nonsummer['Passenger'])\n"
   ]
  },
  {
   "cell_type": "markdown",
   "id": "39047438",
   "metadata": {},
   "source": [
    "Are the distributions for the summer and nonsummer passenger data similar?"
   ]
  },
  {
   "cell_type": "code",
   "execution_count": 13,
   "id": "7d723c2b",
   "metadata": {},
   "outputs": [
    {
     "name": "stdout",
     "output_type": "stream",
     "text": [
      "Test Statistic = 0.9549\n",
      "P-value = 0.0629\n",
      "Test Statistic = 0.9398\n",
      "P-value = 0.0500\n"
     ]
    }
   ],
   "source": [
    "stat, p = stats.shapiro(airline_nonsummer[\"Passenger\"])\n",
    "print(f\"Test Statistic = {stat:.4f}\")\n",
    "print(f\"P-value = {p:.4f}\")\n",
    "\n",
    "stat, p = stats.shapiro(airline_summer['Passenger'])\n",
    "print(f\"Test Statistic = {stat:.4f}\")\n",
    "print(f\"P-value = {p:.4f}\")"
   ]
  },
  {
   "cell_type": "markdown",
   "id": "f7f546cc",
   "metadata": {},
   "source": [
    "Perform the Wilcoxon Rank sum test."
   ]
  },
  {
   "cell_type": "code",
   "execution_count": 13,
   "id": "bc6443d6",
   "metadata": {},
   "outputs": [
    {
     "data": {
      "text/plain": [
       "MannwhitneyuResult(statistic=2541.5, pvalue=0.00587963988803492)"
      ]
     },
     "execution_count": 13,
     "metadata": {},
     "output_type": "execute_result"
    }
   ],
   "source": [
    "sp.stats.mannwhitneyu(airline_summer['Passenger'],airline_nonsummer['Passenger'])"
   ]
  }
 ],
 "metadata": {
  "kernelspec": {
   "display_name": "Python 3",
   "language": "python",
   "name": "python3"
  },
  "language_info": {
   "codemirror_mode": {
    "name": "ipython",
    "version": 3
   },
   "file_extension": ".py",
   "mimetype": "text/x-python",
   "name": "python",
   "nbconvert_exporter": "python",
   "pygments_lexer": "ipython3",
   "version": "3.11.1"
  }
 },
 "nbformat": 4,
 "nbformat_minor": 5
}
