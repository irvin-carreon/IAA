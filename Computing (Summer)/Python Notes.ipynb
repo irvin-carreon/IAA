{
 "cells": [
  {
   "cell_type": "markdown",
   "id": "b54a2790",
   "metadata": {},
   "source": [
    "<h1><b>Python Notes</b></h1>"
   ]
  },
  {
   "cell_type": "markdown",
   "id": "a6f2ebaf",
   "metadata": {},
   "source": [
    "<h3>Variables, Operators, and Data Types</h3>"
   ]
  },
  {
   "cell_type": "markdown",
   "id": "e66feebd",
   "metadata": {},
   "source": [
    "Assignment Variables"
   ]
  },
  {
   "cell_type": "code",
   "execution_count": null,
   "id": "cd3d80fc",
   "metadata": {},
   "outputs": [
    {
     "name": "stdout",
     "output_type": "stream",
     "text": [
      "1\n"
     ]
    }
   ],
   "source": [
    "x = 1\n",
    "print(x)"
   ]
  },
  {
   "cell_type": "markdown",
   "id": "1a4c9908",
   "metadata": {},
   "source": [
    "Variable Types"
   ]
  },
  {
   "cell_type": "code",
   "execution_count": null,
   "id": "1dbb7a4a",
   "metadata": {},
   "outputs": [
    {
     "name": "stdout",
     "output_type": "stream",
     "text": [
      "two\n",
      "<class 'str'>\n"
     ]
    }
   ],
   "source": [
    "x,y,z = 1, \"two\", 3.5\n",
    "print(y)\n",
    "\n",
    "print(type(y))"
   ]
  },
  {
   "cell_type": "code",
   "execution_count": null,
   "id": "fc34875c",
   "metadata": {},
   "outputs": [
    {
     "name": "stdout",
     "output_type": "stream",
     "text": [
      "<class 'float'>\n"
     ]
    }
   ],
   "source": [
    "print(type(3.14))\n"
   ]
  },
  {
   "cell_type": "markdown",
   "id": "4ed5f13a",
   "metadata": {},
   "source": [
    "Lists"
   ]
  },
  {
   "cell_type": "code",
   "execution_count": null,
   "id": "ecb6ffc7",
   "metadata": {},
   "outputs": [
    {
     "name": "stdout",
     "output_type": "stream",
     "text": [
      "['trek', 'redline', 'specialize']\n"
     ]
    }
   ],
   "source": [
    "bicycles = ['trek', 'redline', 'specialize']\n",
    "print(bicycles)"
   ]
  },
  {
   "cell_type": "markdown",
   "id": "ebadf34b",
   "metadata": {},
   "source": [
    "Accessing Elements In A List"
   ]
  },
  {
   "cell_type": "code",
   "execution_count": null,
   "id": "ebe92ddf",
   "metadata": {},
   "outputs": [
    {
     "name": "stdout",
     "output_type": "stream",
     "text": [
      "trek\n",
      "Redline\n"
     ]
    }
   ],
   "source": [
    "print(bicycles[0])\n",
    "print(bicycles[1].title())"
   ]
  },
  {
   "cell_type": "code",
   "execution_count": null,
   "id": "bbfe2013",
   "metadata": {},
   "outputs": [
    {
     "name": "stdout",
     "output_type": "stream",
     "text": [
      "specialize\n"
     ]
    }
   ],
   "source": [
    "print(bicycles[-1])"
   ]
  },
  {
   "cell_type": "markdown",
   "id": "b6e8a877",
   "metadata": {},
   "source": [
    "1. Store the names of a few of your friends in a list called names.\n",
    "2. Print each person’s name by accessing each element in the list, one\n",
    "at a time.\n",
    "3. Instead of just printing each person’s name, print a message to\n",
    "them. The text of each message should be the same, but each\n",
    "message should be personalized with the person’s name"
   ]
  },
  {
   "cell_type": "code",
   "execution_count": null,
   "id": "415f8697",
   "metadata": {},
   "outputs": [
    {
     "name": "stdout",
     "output_type": "stream",
     "text": [
      "my best friend is Conor \n",
      "conor\n",
      "Vivian\n",
      "Neha\n",
      "Jacob\n",
      "conor is one of my friends!\n",
      "Vivian is one of my friends!\n",
      "Neha is one of my friends!\n",
      "Jacob is one of my friends!\n"
     ]
    }
   ],
   "source": [
    "names = ['conor', 'Vivian', 'Neha', 'Jacob']\n",
    "\n",
    "message = f\"my best friend is {names[0].title()} \"\n",
    "print (message)\n",
    "\n",
    "for name in names:\n",
    "    print(name)\n",
    "\n",
    "for name in names:\n",
    "    print(f\"{name} is one of my friends!\")\n"
   ]
  },
  {
   "cell_type": "markdown",
   "id": "92f148c9",
   "metadata": {},
   "source": [
    "1. Make a list that include three people you’d like to invite to dinner.\n",
    "2. Print a message to each person, inviting them to dinner.\n",
    "3. Changing guest list: on your guests can’t make the dinner. Modify\n",
    "your list, replacing the name of the guest who can’t make it with\n",
    "the name of the new person you are inviting.\n",
    "4. More guests: add one new guest to the beginning of your list, and\n",
    "add one new guest to the end of your list.\n",
    "5. Shrinking guest list: remove guests from your list one at a time until\n",
    "only two names remain in your list.\n",
    "6. Sort your list alphabetically."
   ]
  },
  {
   "cell_type": "code",
   "execution_count": null,
   "id": "d7a0fd41",
   "metadata": {},
   "outputs": [
    {
     "name": "stdout",
     "output_type": "stream",
     "text": [
      "I am inviting you to dinner at my house, Mark\n",
      "None\n",
      "I am inviting you to dinner at my house, Katy\n",
      "None\n",
      "I am inviting you to dinner at my house, John\n",
      "None\n",
      "I am inviting you to dinner at my house, Mary\n",
      "None\n",
      "['mark', 'Shakira', 'john', 'mary']\n",
      "['emily', 'mark', 'Shakira', 'john', 'mary', 'ada']\n",
      "['emily', 'mark']\n",
      "['emily', 'mark']\n"
     ]
    }
   ],
   "source": [
    "dinner = ['mark', 'katy', 'john', 'mary']\n",
    "\n",
    "message = print(f\"I am inviting you to dinner at my house, {dinner[0].title()}\")\n",
    "print(message)\n",
    "message = print(f\"I am inviting you to dinner at my house, {dinner[1].title()}\")\n",
    "print(message)\n",
    "message = print(f\"I am inviting you to dinner at my house, {dinner[2].title()}\")\n",
    "print(message)\n",
    "message = print(f\"I am inviting you to dinner at my house, {dinner[3].title()}\")\n",
    "print(message)\n",
    "\n",
    "dinner[1] = \"Shakira\"\n",
    "print(dinner)\n",
    "\n",
    "dinner.insert(0, \"emily\")\n",
    "dinner.append(\"ada\")\n",
    "\n",
    "print(dinner)\n",
    "\n",
    "dinner.pop()\n",
    "dinner.pop()\n",
    "dinner.pop()\n",
    "dinner.pop()\n",
    "print(dinner)\n",
    "\n",
    "dinner.sort()\n",
    "print(dinner)\n"
   ]
  },
  {
   "cell_type": "markdown",
   "id": "e8e0337d",
   "metadata": {},
   "source": [
    "Tuples"
   ]
  },
  {
   "cell_type": "code",
   "execution_count": null,
   "id": "9187a1f6",
   "metadata": {},
   "outputs": [
    {
     "name": "stdout",
     "output_type": "stream",
     "text": [
      "(200, 50)\n"
     ]
    }
   ],
   "source": [
    "dimensions = (200, 50)\n",
    "print(dimensions)"
   ]
  },
  {
   "cell_type": "markdown",
   "id": "db629cd5",
   "metadata": {},
   "source": [
    "Operators"
   ]
  },
  {
   "cell_type": "code",
   "execution_count": null,
   "id": "b3060c06",
   "metadata": {},
   "outputs": [
    {
     "name": "stdout",
     "output_type": "stream",
     "text": [
      "7\n",
      "2\n",
      "55\n",
      "1\n"
     ]
    },
    {
     "data": {
      "text/plain": [
       "'5'"
      ]
     },
     "execution_count": 52,
     "metadata": {},
     "output_type": "execute_result"
    }
   ],
   "source": [
    "print(3+2*2)\n",
    "print(5//2)\n",
    "print('5'+'5')\n",
    "print(10%3)\n",
    "\n",
    "str(5)"
   ]
  },
  {
   "cell_type": "markdown",
   "id": "5640a839",
   "metadata": {},
   "source": [
    "Lab Examples"
   ]
  },
  {
   "cell_type": "code",
   "execution_count": null,
   "id": "6ad220ee",
   "metadata": {},
   "outputs": [
    {
     "name": "stdout",
     "output_type": "stream",
     "text": [
      "[1, 2, 3, 4]\n"
     ]
    }
   ],
   "source": [
    "x = [1,2,3]\n",
    "y=x\n",
    "y.append(4)\n",
    "print(x)"
   ]
  },
  {
   "cell_type": "code",
   "execution_count": null,
   "id": "08a9cfdc",
   "metadata": {},
   "outputs": [
    {
     "name": "stdout",
     "output_type": "stream",
     "text": [
      "512\n"
     ]
    },
    {
     "data": {
      "text/plain": [
       "11"
      ]
     },
     "execution_count": 57,
     "metadata": {},
     "output_type": "execute_result"
    }
   ],
   "source": [
    "[1,2,3]\n",
    "print(2**3**2)\n",
    "len('Hello World')"
   ]
  },
  {
   "cell_type": "code",
   "execution_count": null,
   "id": "cefea3da",
   "metadata": {},
   "outputs": [
    {
     "data": {
      "text/plain": [
       "'IRVIN'"
      ]
     },
     "execution_count": 60,
     "metadata": {},
     "output_type": "execute_result"
    }
   ],
   "source": [
    "def shout_name(name):\n",
    "    output = name.upper()\n",
    "    return output\n",
    "\n",
    "shout_name('irvin')"
   ]
  },
  {
   "cell_type": "code",
   "execution_count": null,
   "id": "fafab26a",
   "metadata": {},
   "outputs": [
    {
     "data": {
      "text/plain": [
       "'irvin@example.com'"
      ]
     },
     "execution_count": 69,
     "metadata": {},
     "output_type": "execute_result"
    }
   ],
   "source": [
    "def generate_email(name):\n",
    "    output = name.lower() + \"@example.com\"\n",
    "    return output\n",
    "\n",
    "generate_email('IrVin')"
   ]
  },
  {
   "cell_type": "code",
   "execution_count": null,
   "id": "a32ed132",
   "metadata": {},
   "outputs": [
    {
     "data": {
      "text/plain": [
       "'The Hunger Games'"
      ]
     },
     "execution_count": 70,
     "metadata": {},
     "output_type": "execute_result"
    }
   ],
   "source": [
    "def format_title(title):\n",
    "    output = title.title()\n",
    "    return(output)\n",
    "\n",
    "format_title(\"the hunGer games\")"
   ]
  },
  {
   "cell_type": "code",
   "execution_count": null,
   "id": "580f49d0",
   "metadata": {},
   "outputs": [
    {
     "data": {
      "text/plain": [
       "'irvin'"
      ]
     },
     "execution_count": 71,
     "metadata": {},
     "output_type": "execute_result"
    }
   ],
   "source": [
    "def clean_username(username):\n",
    "    output = username.replace(\"user_\",\"\")\n",
    "    return output\n",
    "\n",
    "clean_username(\"user_irvin\")"
   ]
  },
  {
   "cell_type": "code",
   "execution_count": null,
   "id": "be7ee2f2",
   "metadata": {},
   "outputs": [
    {
     "name": "stdout",
     "output_type": "stream",
     "text": [
      "<class 'float'>\n",
      "512\n"
     ]
    }
   ],
   "source": [
    "print(type(3.14))\n",
    "\n",
    "print(2**3**2)"
   ]
  },
  {
   "cell_type": "markdown",
   "id": "c5aed5e8",
   "metadata": {},
   "source": [
    "<h1>Logicals, Conditionals, and Loops</h1>"
   ]
  },
  {
   "cell_type": "markdown",
   "id": "138e05ae",
   "metadata": {},
   "source": [
    "If Statements"
   ]
  },
  {
   "cell_type": "code",
   "execution_count": null,
   "id": "032ea7c4",
   "metadata": {},
   "outputs": [
    {
     "name": "stdout",
     "output_type": "stream",
     "text": [
      "You are old enough to vote.\n"
     ]
    }
   ],
   "source": [
    "age = 19\n",
    "if age >= 18:\n",
    "    print(\"You are old enough to vote.\")"
   ]
  },
  {
   "cell_type": "code",
   "execution_count": null,
   "id": "4c3329f9",
   "metadata": {},
   "outputs": [
    {
     "name": "stdout",
     "output_type": "stream",
     "text": [
      "1\n",
      "This statement is always executed.\n"
     ]
    }
   ],
   "source": [
    "x = 1\n",
    "total = 0\n",
    "\n",
    "if x != 0:\n",
    "    total = total + x\n",
    "    print(total)\n",
    "\n",
    "print(\"This statement is always executed.\")"
   ]
  },
  {
   "cell_type": "markdown",
   "id": "e354fe71",
   "metadata": {},
   "source": [
    "If Else Statement and Elif Else Chains"
   ]
  },
  {
   "cell_type": "code",
   "execution_count": null,
   "id": "8a37a3c3",
   "metadata": {},
   "outputs": [
    {
     "name": "stdout",
     "output_type": "stream",
     "text": [
      "This person is an elder\n"
     ]
    }
   ],
   "source": [
    "age = 77\n",
    "\n",
    "if age <= 2:\n",
    "    print(\"This person is a baby\")\n",
    "elif age > 2 and age < 4:\n",
    "    print(\"This person is a toddler\")\n",
    "elif age >= 4 and age < 13:\n",
    "    print(\"This person is a kid\")\n",
    "elif age >= 13 and age < 20:\n",
    "    print(\"This person is a teenager\")\n",
    "elif age >= 20 and age < 65:\n",
    "    print(\"This person is an adult\")\n",
    "else:\n",
    "    print(\"This person is an elder\")"
   ]
  },
  {
   "cell_type": "markdown",
   "id": "30d6cea5",
   "metadata": {},
   "source": [
    "User Input"
   ]
  },
  {
   "cell_type": "code",
   "execution_count": null,
   "id": "06e0c240",
   "metadata": {},
   "outputs": [
    {
     "name": "stdout",
     "output_type": "stream",
     "text": [
      "Enter a name\n",
      "Hello irvin\n"
     ]
    }
   ],
   "source": [
    "print(\"Enter a name\")\n",
    "x = input()\n",
    "\n",
    "print(f\"Hello {x}\")"
   ]
  },
  {
   "cell_type": "code",
   "execution_count": null,
   "id": "29ee6edf",
   "metadata": {},
   "outputs": [
    {
     "name": "stdout",
     "output_type": "stream",
     "text": [
      "You are old enough to vote\n"
     ]
    }
   ],
   "source": [
    "age = input(\"How old are you?\")\n",
    "\n",
    "\n",
    "if int(age) > 18:\n",
    "    print(\"You are old enough to vote\")"
   ]
  },
  {
   "cell_type": "code",
   "execution_count": null,
   "id": "466279d6",
   "metadata": {},
   "outputs": [
    {
     "name": "stdout",
     "output_type": "stream",
     "text": [
      "You will have to wait for a table.\n"
     ]
    }
   ],
   "source": [
    "group = input(\"How many people are in your dinner group?\")\n",
    "\n",
    "if int(group) > 8:\n",
    "    print(\"You will have to wait for a table.\")\n",
    "else:\n",
    "    print(\"Your table is ready!\")"
   ]
  },
  {
   "cell_type": "markdown",
   "id": "caadfac8",
   "metadata": {},
   "source": [
    "For Loops"
   ]
  },
  {
   "cell_type": "code",
   "execution_count": null,
   "id": "44a1ca0a",
   "metadata": {},
   "outputs": [
    {
     "name": "stdout",
     "output_type": "stream",
     "text": [
      "apple\n",
      "banana\n",
      "cherry\n"
     ]
    }
   ],
   "source": [
    "fruits = ['apple', 'banana', 'cherry']\n",
    "\n",
    "for x in fruits:\n",
    "    print(x)"
   ]
  },
  {
   "cell_type": "markdown",
   "id": "d232d63e",
   "metadata": {},
   "source": [
    "Range"
   ]
  },
  {
   "cell_type": "code",
   "execution_count": null,
   "id": "b8d89b49",
   "metadata": {},
   "outputs": [
    {
     "name": "stdout",
     "output_type": "stream",
     "text": [
      "[2, 4, 6, 8, 10]\n"
     ]
    }
   ],
   "source": [
    "even = list(range(2,11,2))\n",
    "print(even)\n"
   ]
  },
  {
   "cell_type": "code",
   "execution_count": null,
   "id": "92cfa6ec",
   "metadata": {},
   "outputs": [
    {
     "name": "stdout",
     "output_type": "stream",
     "text": [
      "0\n",
      "1\n",
      "2\n",
      "3\n",
      "4\n",
      "[2, 4, 6, 8, 10]\n"
     ]
    }
   ],
   "source": [
    "for value in range(5):\n",
    "    print(value)\n",
    "    \n",
    "\n",
    "list1 = list(range(2,11,2))\n",
    "print(list1)\n"
   ]
  },
  {
   "cell_type": "markdown",
   "id": "64ac85b1",
   "metadata": {},
   "source": [
    "While Loops"
   ]
  },
  {
   "cell_type": "code",
   "execution_count": 1,
   "id": "4f6d9fe1",
   "metadata": {},
   "outputs": [
    {
     "name": "stdout",
     "output_type": "stream",
     "text": [
      "I'd love to go to \n",
      "I'd love to go to Asheville\n",
      "I'd love to go to \n"
     ]
    },
    {
     "ename": "KeyboardInterrupt",
     "evalue": "Interrupted by user",
     "output_type": "error",
     "traceback": [
      "\u001b[1;31m---------------------------------------------------------------------------\u001b[0m",
      "\u001b[1;31mKeyboardInterrupt\u001b[0m                         Traceback (most recent call last)",
      "Cell \u001b[1;32mIn[1], line 4\u001b[0m\n\u001b[0;32m      1\u001b[0m prompt \u001b[38;5;241m=\u001b[39m \u001b[38;5;28minput\u001b[39m(\u001b[38;5;124m\"\u001b[39m\u001b[38;5;124mWhat is one city that you have visited?\u001b[39m\u001b[38;5;124m\"\u001b[39m)\n\u001b[0;32m      3\u001b[0m \u001b[38;5;28;01mwhile\u001b[39;00m \u001b[38;5;28;01mTrue\u001b[39;00m:\n\u001b[1;32m----> 4\u001b[0m     city \u001b[38;5;241m=\u001b[39m \u001b[38;5;28;43minput\u001b[39;49m\u001b[43m(\u001b[49m\u001b[43mprompt\u001b[49m\u001b[43m)\u001b[49m\n\u001b[0;32m      6\u001b[0m     \u001b[38;5;28;01mif\u001b[39;00m city \u001b[38;5;241m==\u001b[39m \u001b[38;5;124m'\u001b[39m\u001b[38;5;124mquit\u001b[39m\u001b[38;5;124m'\u001b[39m:\n\u001b[0;32m      7\u001b[0m         \u001b[38;5;28;01mbreak\u001b[39;00m\n",
      "File \u001b[1;32m~\\AppData\\Roaming\\Python\\Python311\\site-packages\\ipykernel\\kernelbase.py:1187\u001b[0m, in \u001b[0;36mKernel.raw_input\u001b[1;34m(self, prompt)\u001b[0m\n\u001b[0;32m   1185\u001b[0m     msg \u001b[38;5;241m=\u001b[39m \u001b[38;5;124m\"\u001b[39m\u001b[38;5;124mraw_input was called, but this frontend does not support input requests.\u001b[39m\u001b[38;5;124m\"\u001b[39m\n\u001b[0;32m   1186\u001b[0m     \u001b[38;5;28;01mraise\u001b[39;00m StdinNotImplementedError(msg)\n\u001b[1;32m-> 1187\u001b[0m \u001b[38;5;28;01mreturn\u001b[39;00m \u001b[38;5;28;43mself\u001b[39;49m\u001b[38;5;241;43m.\u001b[39;49m\u001b[43m_input_request\u001b[49m\u001b[43m(\u001b[49m\n\u001b[0;32m   1188\u001b[0m \u001b[43m    \u001b[49m\u001b[38;5;28;43mstr\u001b[39;49m\u001b[43m(\u001b[49m\u001b[43mprompt\u001b[49m\u001b[43m)\u001b[49m\u001b[43m,\u001b[49m\n\u001b[0;32m   1189\u001b[0m \u001b[43m    \u001b[49m\u001b[38;5;28;43mself\u001b[39;49m\u001b[38;5;241;43m.\u001b[39;49m\u001b[43m_parent_ident\u001b[49m\u001b[43m[\u001b[49m\u001b[38;5;124;43m\"\u001b[39;49m\u001b[38;5;124;43mshell\u001b[39;49m\u001b[38;5;124;43m\"\u001b[39;49m\u001b[43m]\u001b[49m\u001b[43m,\u001b[49m\n\u001b[0;32m   1190\u001b[0m \u001b[43m    \u001b[49m\u001b[38;5;28;43mself\u001b[39;49m\u001b[38;5;241;43m.\u001b[39;49m\u001b[43mget_parent\u001b[49m\u001b[43m(\u001b[49m\u001b[38;5;124;43m\"\u001b[39;49m\u001b[38;5;124;43mshell\u001b[39;49m\u001b[38;5;124;43m\"\u001b[39;49m\u001b[43m)\u001b[49m\u001b[43m,\u001b[49m\n\u001b[0;32m   1191\u001b[0m \u001b[43m    \u001b[49m\u001b[43mpassword\u001b[49m\u001b[38;5;241;43m=\u001b[39;49m\u001b[38;5;28;43;01mFalse\u001b[39;49;00m\u001b[43m,\u001b[49m\n\u001b[0;32m   1192\u001b[0m \u001b[43m\u001b[49m\u001b[43m)\u001b[49m\n",
      "File \u001b[1;32m~\\AppData\\Roaming\\Python\\Python311\\site-packages\\ipykernel\\kernelbase.py:1230\u001b[0m, in \u001b[0;36mKernel._input_request\u001b[1;34m(self, prompt, ident, parent, password)\u001b[0m\n\u001b[0;32m   1227\u001b[0m \u001b[38;5;28;01mexcept\u001b[39;00m \u001b[38;5;167;01mKeyboardInterrupt\u001b[39;00m:\n\u001b[0;32m   1228\u001b[0m     \u001b[38;5;66;03m# re-raise KeyboardInterrupt, to truncate traceback\u001b[39;00m\n\u001b[0;32m   1229\u001b[0m     msg \u001b[38;5;241m=\u001b[39m \u001b[38;5;124m\"\u001b[39m\u001b[38;5;124mInterrupted by user\u001b[39m\u001b[38;5;124m\"\u001b[39m\n\u001b[1;32m-> 1230\u001b[0m     \u001b[38;5;28;01mraise\u001b[39;00m \u001b[38;5;167;01mKeyboardInterrupt\u001b[39;00m(msg) \u001b[38;5;28;01mfrom\u001b[39;00m \u001b[38;5;28mNone\u001b[39m\n\u001b[0;32m   1231\u001b[0m \u001b[38;5;28;01mexcept\u001b[39;00m \u001b[38;5;167;01mException\u001b[39;00m:\n\u001b[0;32m   1232\u001b[0m     \u001b[38;5;28mself\u001b[39m\u001b[38;5;241m.\u001b[39mlog\u001b[38;5;241m.\u001b[39mwarning(\u001b[38;5;124m\"\u001b[39m\u001b[38;5;124mInvalid Message:\u001b[39m\u001b[38;5;124m\"\u001b[39m, exc_info\u001b[38;5;241m=\u001b[39m\u001b[38;5;28;01mTrue\u001b[39;00m)\n",
      "\u001b[1;31mKeyboardInterrupt\u001b[0m: Interrupted by user"
     ]
    }
   ],
   "source": [
    "prompt = input(\"What is one city that you have visited?\")\n",
    "\n",
    "while True:\n",
    "    city = input(prompt)\n",
    "\n",
    "    if city == 'quit':\n",
    "        break\n",
    "    else:\n",
    "        print(f\"I'd love to go to {city.title()}\")\n",
    "    "
   ]
  },
  {
   "cell_type": "markdown",
   "id": "f2b05249",
   "metadata": {},
   "source": [
    "<h2>Functions and Files</h2>"
   ]
  },
  {
   "cell_type": "markdown",
   "id": "a09c9acb",
   "metadata": {},
   "source": [
    "Functions"
   ]
  },
  {
   "cell_type": "code",
   "execution_count": null,
   "id": "09b0bfc9",
   "metadata": {},
   "outputs": [],
   "source": [
    "def greet_user():\n",
    "    print(\"Hello user.\")\n",
    "\n",
    "greet_user()"
   ]
  },
  {
   "cell_type": "code",
   "execution_count": null,
   "id": "c71c49b9",
   "metadata": {},
   "outputs": [],
   "source": [
    "def favorite_book(title):\n",
    "    print(f\"One of my favorite books is {title.title()}\")\n",
    "\n",
    "favorite_book(\"The hunger games\")"
   ]
  },
  {
   "cell_type": "markdown",
   "id": "4240c1ba",
   "metadata": {},
   "source": [
    "Files"
   ]
  },
  {
   "cell_type": "code",
   "execution_count": 2,
   "id": "06a70003",
   "metadata": {},
   "outputs": [
    {
     "name": "stdout",
     "output_type": "stream",
     "text": [
      "3.1415926535\n",
      "  8979323846\n",
      "  2643383279\n",
      "\n"
     ]
    }
   ],
   "source": [
    "from pathlib import Path\n",
    "\n",
    "path = Path(\"C:/Users/irvin/Downloads/IAA/Computing (Summer)/pi_digits.txt\")\n",
    "contents = path.read_text()\n",
    "print(contents)"
   ]
  },
  {
   "cell_type": "code",
   "execution_count": 4,
   "id": "56140d3f",
   "metadata": {},
   "outputs": [
    {
     "name": "stdout",
     "output_type": "stream",
     "text": [
      "3.1415926535\n",
      "  8979323846\n",
      "  2643383279\n",
      "\n",
      "3.1415926535\n",
      "3.14159265358979323846\n",
      "3.141592653589793238462643383279\n",
      "Your birthday does not appear in the first million digits of pi.\n"
     ]
    }
   ],
   "source": [
    "path1 = Path(\"C:\\\\sers\\\\irvin\\\\Downloads\\\\IAA\\\\Computing (Summer)\\\\pi_million_digits.txt\")\n",
    "contents1 = path.read_text()\n",
    "print(contents1)\n",
    "lines=contents1.splitlines()\n",
    "\n",
    "pi_string = \"\"\n",
    "for line in lines:\n",
    "    pi_string += line.lstrip()\n",
    "    print(pi_string)\n",
    "birthday = input(\"Enter your birthday, in the form MMDDYY: \")\n",
    "\n",
    "if birthday in pi_string:\n",
    "    print(\"Your birthday appears in the first million digits of pi.\")\n",
    "else:\n",
    "    print(\"Your birthday does not appear in the first million digits of pi.\")"
   ]
  },
  {
   "cell_type": "markdown",
   "id": "d0f22d7e",
   "metadata": {},
   "source": [
    "Lab Examples"
   ]
  },
  {
   "cell_type": "code",
   "execution_count": 3,
   "id": "22ff894d",
   "metadata": {},
   "outputs": [],
   "source": [
    "x=1\n",
    "def test(x):\n",
    "    x *= 5\n",
    "    \n",
    "\n",
    "test(5)"
   ]
  },
  {
   "cell_type": "code",
   "execution_count": 5,
   "id": "53286757",
   "metadata": {},
   "outputs": [
    {
     "data": {
      "text/plain": [
       "8"
      ]
     },
     "execution_count": 5,
     "metadata": {},
     "output_type": "execute_result"
    }
   ],
   "source": [
    "def add(x, y=5):\n",
    "    return x+y\n",
    "\n",
    "add(3)"
   ]
  },
  {
   "cell_type": "code",
   "execution_count": 6,
   "id": "000c0782",
   "metadata": {},
   "outputs": [
    {
     "data": {
      "text/plain": [
       "(27, 16)"
      ]
     },
     "execution_count": 6,
     "metadata": {},
     "output_type": "execute_result"
    }
   ],
   "source": [
    "def test2(x1, x2):\n",
    "    testing_line = x1 ** 3\n",
    "    testing_line2 = x2 ** 2\n",
    "    return testing_line, testing_line2\n",
    "\n",
    "test2(3,4)"
   ]
  },
  {
   "cell_type": "code",
   "execution_count": 7,
   "id": "3ac94e91",
   "metadata": {},
   "outputs": [
    {
     "name": "stdout",
     "output_type": "stream",
     "text": [
      "212.0\n",
      "32.0\n"
     ]
    }
   ],
   "source": [
    "def C2F(c):\n",
    "    return c * 9/5 + 32\n",
    "\n",
    "print(C2F(100))\n",
    "print(C2F(0))"
   ]
  },
  {
   "cell_type": "code",
   "execution_count": 9,
   "id": "5bd00c7e",
   "metadata": {},
   "outputs": [],
   "source": [
    "def greatest(x,y):\n",
    "    if x < y:\n",
    "        return y\n",
    "    elif x > y:\n",
    "        return x\n",
    "    else:\n",
    "        return x or y"
   ]
  },
  {
   "cell_type": "code",
   "execution_count": 10,
   "id": "a408b254",
   "metadata": {},
   "outputs": [
    {
     "data": {
      "text/plain": [
       "89.6"
      ]
     },
     "execution_count": 10,
     "metadata": {},
     "output_type": "execute_result"
    }
   ],
   "source": [
    "def celsius_to_farenheit(c):\n",
    "    f_temp = c * 9/5 + 32\n",
    "    return f_temp\n",
    "\n",
    "celsius_to_farenheit(32)"
   ]
  },
  {
   "cell_type": "code",
   "execution_count": 11,
   "id": "fcd23a77",
   "metadata": {},
   "outputs": [
    {
     "data": {
      "text/plain": [
       "False"
      ]
     },
     "execution_count": 11,
     "metadata": {},
     "output_type": "execute_result"
    }
   ],
   "source": [
    "def is_positive(n):\n",
    "    if n > 0:\n",
    "        return True\n",
    "    else:\n",
    "        return False\n",
    "    \n",
    "is_positive(-5)"
   ]
  },
  {
   "cell_type": "code",
   "execution_count": 12,
   "id": "b8111b8c",
   "metadata": {},
   "outputs": [
    {
     "data": {
      "text/plain": [
       "True"
      ]
     },
     "execution_count": 12,
     "metadata": {},
     "output_type": "execute_result"
    }
   ],
   "source": [
    "def UpperControl(phrase):\n",
    "    if phrase.islower():\n",
    "        return False\n",
    "    else:\n",
    "        return True\n",
    "        \n",
    "UpperControl(\"irVIn\")"
   ]
  },
  {
   "cell_type": "code",
   "execution_count": 13,
   "id": "030d1eb0",
   "metadata": {},
   "outputs": [
    {
     "data": {
      "text/plain": [
       "13"
      ]
     },
     "execution_count": 13,
     "metadata": {},
     "output_type": "execute_result"
    }
   ],
   "source": [
    "def greater_sum(list1, x):\n",
    "    sum = 0\n",
    "    for i in list1:\n",
    "        if i > x:\n",
    "            sum += i\n",
    "    return sum\n",
    "\n",
    "greater_sum([2,3,5,6,7], 5)"
   ]
  }
 ],
 "metadata": {
  "kernelspec": {
   "display_name": "Python 3",
   "language": "python",
   "name": "python3"
  },
  "language_info": {
   "codemirror_mode": {
    "name": "ipython",
    "version": 3
   },
   "file_extension": ".py",
   "mimetype": "text/x-python",
   "name": "python",
   "nbconvert_exporter": "python",
   "pygments_lexer": "ipython3",
   "version": "3.11.1"
  }
 },
 "nbformat": 4,
 "nbformat_minor": 5
}
